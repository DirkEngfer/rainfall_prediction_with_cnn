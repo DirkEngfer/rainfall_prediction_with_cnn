{
 "cells": [
  {
   "cell_type": "code",
   "execution_count": 86,
   "metadata": {},
   "outputs": [],
   "source": [
    "# Predict next day's rainfall (yes/no) from historical measures\n",
    "\n",
    "import os, numpy as np\n",
    "import pandas as pd\n",
    "homedir = os.getenv('HOME')\n",
    "\n",
    "\n",
    "# read .csv: Data from a single station in county Kilkenny.\n",
    "\n",
    "datapath = os.path.join(homedir, 'Dokumente','python-apps','tensorflow', 'irish_meteorological_service')\n",
    "datafile = 'dailyrain.csv'\n",
    "\n",
    "outpath = os.path.join(datapath,pickle_data)\n",
    "indatapath = os.path.join(datapath,datafile)"
   ]
  },
  {
   "cell_type": "code",
   "execution_count": 87,
   "metadata": {},
   "outputs": [
    {
     "name": "stdout",
     "output_type": "stream",
     "text": [
      "(1125, 7, 1)\n"
     ]
    }
   ],
   "source": [
    "df = pd.read_csv(indatapath, header=9, sep=',',usecols=[0,2], names=['date', 'rain_mm'],\\\n",
    "                dtype={'date': \"string\", 'rain_mm': np.float64})\n",
    "df = df.loc[df['rain_mm'] != np.nan]\n",
    "df2 = df.iloc[0:7875,:].copy()\n",
    "\n",
    "fmtnum = lambda x: 0 if x == 0 else 1\n",
    "df2['labelnum'] = df2['rain_mm'].map(fmtnum).astype(np.int)\n",
    "df2['rain_mm'] = df2['rain_mm']/100\n",
    "df3 = df2.drop(columns=['date'])\n",
    "labels = df3[\"labelnum\"].copy()\n",
    "df3.drop(columns=\"labelnum\", inplace=True)\n",
    "\n",
    "a = df3.to_numpy(copy=True)\n",
    "l = labels.to_numpy(copy=True)\n",
    "a.resize(1125, 7, 1)\n",
    "l.resize(1125, 7, 1)\n",
    "labelL = []\n",
    "for row in l:\n",
    "    labelL.append(row[6])\n",
    "labelsA = np.array(labelL)\n",
    "labelsA.flatten()\n",
    "\n",
    "print(a.shape)"
   ]
  },
  {
   "cell_type": "code",
   "execution_count": 88,
   "metadata": {},
   "outputs": [],
   "source": [
    "train = a[0:900, :]\n",
    "test = a[900:, :]\n",
    "trainl = labelsA[0:900, :]\n",
    "testl  = labelsA[900:, :]"
   ]
  },
  {
   "cell_type": "code",
   "execution_count": 89,
   "metadata": {},
   "outputs": [
    {
     "name": "stdout",
     "output_type": "stream",
     "text": [
      "Epoch 1/4\n",
      "900/900 [==============================]900/900 [==============================] - 2s 2ms/step - loss: 0.5609 - acc: 0.7011\n",
      "\n",
      "Epoch 2/4\n",
      "900/900 [==============================]900/900 [==============================] - 1s 2ms/step - loss: 0.3882 - acc: 0.8278\n",
      "\n",
      "Epoch 3/4\n",
      "900/900 [==============================]900/900 [==============================] - 1s 1ms/step - loss: 0.3080 - acc: 0.8844\n",
      "\n",
      "Epoch 4/4\n",
      "900/900 [==============================]900/900 [==============================] - 1s 1ms/step - loss: 0.2702 - acc: 0.8911\n",
      "\n",
      "225/225 [==============================]225/225 [==============================] - 0s 377us/step\n",
      "\n",
      "0.9555555555555556\n"
     ]
    }
   ],
   "source": [
    "'''\n",
    "conv1d:\n",
    "\n",
    "When using this layer as the first layer in a model, provide an input_shape argument \n",
    "(tuple of integers or None, e.g. (10, 128) for sequences of 10 vectors of 128-dimensional\n",
    "vectors, or (None, 128) for variable-length sequences of 128-dimensional vectors\n",
    "\n",
    "3D tensor with shape: (samples, steps, features)\n",
    "\n",
    "'''\n",
    "# Expected: 3D tensor with shape: (samples, time points, features) for conv1d\n",
    "\n",
    "from tensorflow import keras\n",
    "\n",
    "model =keras.models.Sequential()\n",
    "# input shape: (None for variable sequence-length)\n",
    "model.add(keras.layers.Conv1D(20, 1, activation='elu',input_shape=(7, 1)))\n",
    "model.add(keras.layers.MaxPooling1D(1))\n",
    "model.add(keras.layers.Flatten())\n",
    "model.add(keras.layers.Dense(25, activation='elu'))\n",
    "model.add(keras.layers.Dense(1, activation = 'sigmoid'))\n",
    "#model.summary()\n",
    "\n",
    "model.compile(optimizer='rmsprop',\n",
    "              loss='binary_crossentropy',\n",
    "              metrics=['accuracy'])\n",
    "model.fit(train, trainl, epochs=4, batch_size=1)\n",
    "test_loss, test_acc = model.evaluate(test, testl)\n",
    "print(test_acc)\n"
   ]
  },
  {
   "cell_type": "code",
   "execution_count": null,
   "metadata": {},
   "outputs": [],
   "source": []
  }
 ],
 "metadata": {
  "kernelspec": {
   "display_name": "Python 3",
   "language": "python",
   "name": "python3"
  },
  "language_info": {
   "codemirror_mode": {
    "name": "ipython",
    "version": 3
   },
   "file_extension": ".py",
   "mimetype": "text/x-python",
   "name": "python",
   "nbconvert_exporter": "python",
   "pygments_lexer": "ipython3",
   "version": "3.6.9"
  }
 },
 "nbformat": 4,
 "nbformat_minor": 2
}
